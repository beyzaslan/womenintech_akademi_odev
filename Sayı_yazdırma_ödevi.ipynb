{
 "cells": [
  {
   "cell_type": "markdown",
   "metadata": {},
   "source": [
    "1-Soru: 0dan 100e kadar karışık sırada sayıları tutan bir listenizin olduğunu düşünün. Bu liste içerisinde n tane sayı eksik. n ve eksik sayıları bulunuz.\n",
    "\n",
    "Örnek: my_list = [0, 7, 5, 8, 2] -> 0-10 arasında\n",
    "\n",
    "6 adet sayı eksiktir. Eksik olan sayılar [1, 3, 4, 6, 9, 10]"
   ]
  },
  {
   "cell_type": "code",
   "execution_count": 119,
   "metadata": {},
   "outputs": [
    {
     "name": "stdout",
     "output_type": "stream",
     "text": [
      "43 adet sayı eksiktir. Eksik olan sayılar: [66, 45, 69, 62, 36, 40, 74, 50, 39, 61, 71, 64, 55, 47, 59, 35, 58, 51, 57, 41, 42, 63, 34, 56, 32, 68, 44, 73, 52, 38, 37, 48, 46, 54, 53, 33, 72, 70, 65, 60, 43, 49, 67]'dir\n"
     ]
    }
   ],
   "source": [
    "import random\n",
    "\n",
    "control = [i for i in range(0, 101)]\n",
    "random.shuffle(control)\n",
    "\n",
    "\n",
    "my_list = [i for i in range(0, 101)]\n",
    "del my_list[32:75]\n",
    "\n",
    "new_list=[]\n",
    "sayac=0\n",
    "\n",
    "for i in control:\n",
    "    if i not in my_list:\n",
    "        new_list.append(i)\n",
    "        sayac=sayac+1\n",
    "print(f\"{sayac} adet sayı eksiktir. Eksik olan sayılar: {new_list}'dir\")\n",
    "\n",
    "        \n",
    "\n",
    "\n",
    "\n",
    "\n",
    "\n",
    "\n",
    "\n",
    "\n",
    "\n",
    "\n",
    "\n",
    "    \n",
    "\n",
    "\n",
    "\n",
    "\n"
   ]
  },
  {
   "cell_type": "code",
   "execution_count": null,
   "metadata": {},
   "outputs": [],
   "source": [
    "\n",
    "'''\n",
    "for i in (my_list):\n",
    "    if i not in new_list:\n",
    "        son_list.append(i)\n",
    "\n",
    "print(son_list)\n",
    "'''"
   ]
  }
 ],
 "metadata": {
  "kernelspec": {
   "display_name": "Python 3.10.7 64-bit",
   "language": "python",
   "name": "python3"
  },
  "language_info": {
   "codemirror_mode": {
    "name": "ipython",
    "version": 3
   },
   "file_extension": ".py",
   "mimetype": "text/x-python",
   "name": "python",
   "nbconvert_exporter": "python",
   "pygments_lexer": "ipython3",
   "version": "3.10.7"
  },
  "orig_nbformat": 4,
  "vscode": {
   "interpreter": {
    "hash": "1d8047cf9a3fb5d39b90451c85057b3ab99e4664a0128e29f03111a30f920c3d"
   }
  }
 },
 "nbformat": 4,
 "nbformat_minor": 2
}
