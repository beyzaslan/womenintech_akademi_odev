{
 "cells": [
  {
   "cell_type": "markdown",
   "metadata": {},
   "source": [
    "1-Soru: 0dan 100e kadar karışık sırada sayıları tutan bir listenizin olduğunu düşünün. Bu liste içerisinde n tane sayı eksik. n ve eksik sayıları bulunuz.\n",
    "\n",
    "Örnek: my_list = [0, 7, 5, 8, 2] -> 0-10 arasında\n",
    "\n",
    "6 adet sayı eksiktir. Eksik olan sayılar [1, 3, 4, 6, 9, 10]"
   ]
  },
  {
   "cell_type": "code",
   "execution_count": 124,
   "metadata": {},
   "outputs": [
    {
     "name": "stdout",
     "output_type": "stream",
     "text": [
      "43 adet sayı eksiktir. Eksik olan sayılar: [42, 35, 37, 58, 57, 60, 38, 33, 64, 34, 45, 63, 49, 54, 43, 44, 55, 70, 74, 71, 61, 66, 73, 68, 56, 72, 51, 48, 69, 39, 65, 59, 41, 40, 52, 36, 47, 46, 67, 62, 50, 32, 53]'dir\n"
     ]
    }
   ],
   "source": [
    "########## 1.ÇÖZÜM ######### \n",
    "\n",
    "import random\n",
    "\n",
    "control = [i for i in range(0, 101)]\n",
    "random.shuffle(control)\n",
    "\n",
    "\n",
    "my_list = [i for i in range(0, 101)]\n",
    "del my_list[32:75]\n",
    "\n",
    "new_list=[]\n",
    "sayac=0\n",
    "\n",
    "for i in control:\n",
    "    if i not in my_list:\n",
    "        new_list.append(i)\n",
    "        sayac=sayac+1\n",
    "print(f\"{sayac} adet sayı eksiktir. Eksik olan sayılar: {new_list}'dir\")\n"
   ]
  },
  {
   "cell_type": "code",
   "execution_count": 1,
   "metadata": {},
   "outputs": [
    {
     "name": "stdout",
     "output_type": "stream",
     "text": [
      "[3, 7, 9, 6, 14, 17, 19, 5, 0, 2, 8, 13, 10, 1, 12, 18, 20, 4, 11, 15, 16]\n",
      "[13, 0, 18, 10, 6, 9]\n",
      "[3, 7, 14, 17, 19, 5, 2, 8, 1, 12, 20, 4, 11, 15, 16]\n"
     ]
    }
   ],
   "source": [
    "#### ÇÖZÜM ####\n",
    "\n",
    "#listeyi hazırlama\n",
    "import random\n",
    "\n",
    "my_list = [i for i in range(0, 21)]\n",
    "random.shuffle(my_list)\n",
    "\n",
    "#1. yol\n",
    "remove_list = random.sample(my_list, 6)\n",
    "\n",
    "print(my_list)\n",
    "print(remove_list)\n",
    "\n",
    "for i in remove_list:\n",
    "    my_list.remove(i)\n",
    "\n",
    "#2.yol\n",
    "#del my_list[0:6]\n",
    "\n",
    "print(my_list)\n",
    "\n",
    "\n"
   ]
  },
  {
   "cell_type": "code",
   "execution_count": null,
   "metadata": {},
   "outputs": [],
   "source": [
    "#2.çözüm\n",
    "my_list = [15, 13, 11, 16, 5, 3, 19, 2, 6, 12, 1, 8, 4, 10, 17]\n",
    "\n",
    "my_set = {i for i in range(0,21)}\n",
    "\n",
    "difference_set = my_set - set(my_list)\n",
    "print(f\"Listemiz içerisinde {len(difference_set)} tane sayı eksiktir. Eksik olan sayılar {difference_set}\")"
   ]
  },
  {
   "cell_type": "markdown",
   "metadata": {},
   "source": [
    "2-Soru: 0dan 100e kadar karışık sırada sayıları tutan bir listenizin olduğunu düşünün. Bu liste içerisinde bu defa n tane sayı yerine 1 adet sayı eksik. Eksik olan sayıyı bulunuz.\n",
    "\n"
   ]
  },
  {
   "cell_type": "code",
   "execution_count": 23,
   "metadata": {},
   "outputs": [
    {
     "name": "stdout",
     "output_type": "stream",
     "text": [
      "[8, 3, 4, 1, 6, 7, 9, 5, 2, 0]\n",
      "[2, 5, 9, 4, 8, 3, 7, 0, 6, 1]\n",
      "[8, 3, 4, 1, 6, 7, 9, 2, 0]\n",
      "Eksik olan sayı 5'dir\n"
     ]
    }
   ],
   "source": [
    "import random\n",
    "my_list = [i for i in range(0, 10)]\n",
    "random.shuffle(my_list)\n",
    "print(my_list)\n",
    "\n",
    "control_list = [i for i in range(0, 10)]\n",
    "random.shuffle(control_list)\n",
    "print(control_list)\n",
    "\n",
    "del my_list[i]\n",
    "print(my_list)\n",
    "\n",
    "for i in control_list:\n",
    "    if i not in my_list:\n",
    "        print(f\"Eksik olan sayı {i}'dir\")\n",
    "\n",
    "\n"
   ]
  },
  {
   "cell_type": "markdown",
   "metadata": {},
   "source": [
    "3-Soru: Bir liste üzerinde sıralama algoritmasını kullanarak listeyi sıralayınız.\n",
    "\n"
   ]
  },
  {
   "cell_type": "code",
   "execution_count": 2,
   "metadata": {},
   "outputs": [
    {
     "data": {
      "text/plain": [
       "[0, 0, 0, 1, 1, 2, 3, 4, 5, 7, 8, 16, 20, 25]"
      ]
     },
     "execution_count": 2,
     "metadata": {},
     "output_type": "execute_result"
    }
   ],
   "source": [
    "my_list = [3, 8, 16, 25, 4, 7, 20, 5, 1, 0, 2, 1, 0, 0, ]\n",
    "my_list.sort()\n",
    "my_list"
   ]
  },
  {
   "cell_type": "markdown",
   "metadata": {},
   "source": [
    "4-Soru: Fonksiyon bir integer array nums ve bir hedef target değişkeni almalı ve bizlere toplamı target olan indexleri dönmeli.\n",
    "\n",
    "Kurallar: Aynı index’teki değeri iki defa kullanamayız.\n",
    "\n",
    "Örnek\n",
    "Parametreler: nums = [2,7,11,15], target = 9\n",
    "Dönen Değer: [0,1]\n",
    "Açıklama: nums[0] ve nums[1]'deki değerlerin toplamı 9 yaptığı için çıktımız [0, 1] oldu.\n",
    "Örnek\n",
    "Parametreler: nums = [3,2,4], target = 6\n",
    "Dönen Değer: [1,2]\n",
    "Açıklama: nums[1] ve nums[2]'deki değerlerin toplamı 6 yaptığı için çıktımız [1, 2] oldu.\n",
    "Not: Burada [0,0] çıktı olarak kabul edilemez. Çünkü aynı index'i kullanamayacağımız söylenmişti.\n",
    "Örnek\n",
    "Parametreler: nums = [3,2,4,1,3], target = 7\n",
    "Dönen Değer: [2,4]\n",
    "Açıklama: nums[2] ve nums[4]'deki değerlerin toplamı 7 yaptığı için çıktımız [2, 4] oldu."
   ]
  },
  {
   "cell_type": "code",
   "execution_count": 44,
   "metadata": {},
   "outputs": [
    {
     "name": "stdout",
     "output_type": "stream",
     "text": [
      "2 7\n",
      "nums[0] ve nums[1] değerlerinin toplamı 9 olduğu için çıktımız: [0,1]\n"
     ]
    }
   ],
   "source": [
    "\n",
    "nums=[2,7,11,15]\n",
    "target=9\n",
    "\n",
    "if nums[0]+nums[1]==target:\n",
    "    print(nums[0],nums[1])\n",
    "    print(\"nums[0] ve nums[1] değerlerinin toplamı 9 olduğu için çıktımız: [0,1]\")"
   ]
  },
  {
   "cell_type": "code",
   "execution_count": 45,
   "metadata": {},
   "outputs": [],
   "source": [
    "\n",
    "def hesap (nums,target):\n",
    "    for i in range (0, len(nums)):\n",
    "        nums[i]\n",
    "\n",
    "hesap(nums= [2,7,11,15], target=9)"
   ]
  }
 ],
 "metadata": {
  "kernelspec": {
   "display_name": "Python 3.10.7 64-bit",
   "language": "python",
   "name": "python3"
  },
  "language_info": {
   "codemirror_mode": {
    "name": "ipython",
    "version": 3
   },
   "file_extension": ".py",
   "mimetype": "text/x-python",
   "name": "python",
   "nbconvert_exporter": "python",
   "pygments_lexer": "ipython3",
   "version": "3.10.7"
  },
  "orig_nbformat": 4,
  "vscode": {
   "interpreter": {
    "hash": "1d8047cf9a3fb5d39b90451c85057b3ab99e4664a0128e29f03111a30f920c3d"
   }
  }
 },
 "nbformat": 4,
 "nbformat_minor": 2
}
