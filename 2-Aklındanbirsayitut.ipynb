{
 "cells": [
  {
   "cell_type": "code",
   "execution_count": null,
   "metadata": {},
   "outputs": [],
   "source": [
    "import random\n",
    " \n",
    "rndmsayi = random.randint(1, 10)\n",
    " \n",
    "while True:\n",
    "        \n",
    "    sayi = int(input(\"1 ile 10 arasında bir sayı giriniz.\"))\n",
    "    \n",
    "    \n",
    "    if(sayi == 0):\n",
    "        print(\"Oyundan çıktınız.\")\n",
    "        break\n",
    "    \n",
    "    elif sayi < rndmsayi:\n",
    "        print(\"Daha Büyük Bir Sayı Giriniz.\")\n",
    "        continue\n",
    "    \n",
    "    elif sayi > rndmsayi:\n",
    "        print(\"Daha Küçük Bir Sayı Giriniz.\")\n",
    "        continue\n",
    "    \n",
    "    else:\n",
    "        print(\"Tebrikler Sayıyı Tahmin Ettiniz! Rastgele sayı = {0}\".format(rndmsayi))\n",
    "        "
   ]
  }
 ],
 "metadata": {
  "language_info": {
   "name": "python"
  },
  "orig_nbformat": 4
 },
 "nbformat": 4,
 "nbformat_minor": 2
}
