{
 "cells": [
  {
   "cell_type": "markdown",
   "metadata": {},
   "source": [
    "Düzensiz ve duplicate veriden oluşan \"all_data.txt\" dosyası üzerinde yapılacak olan işlemler;\n",
    "\n",
    "* Bütün text küçük harfe çevrilecek\n",
    "* Türkçe karakterler replace edilecek\n",
    "  - ş -> s \n",
    "  - ı -> i \n",
    "  - ö -> o \n",
    "  - ğ -> g \n",
    "  - ç -> c \n",
    "  - ü -> u \n",
    "* Noktalama işaretleri kaldırılacak\n",
    "* Bir satır tamamen sayılardan oluşuyorsa satırı yeni dosyaya ekleme\n",
    "* Her satırda bir cümle olacak şekilde satırları düzenleyin\n",
    "* duplicate veri barındırmayacak"
   ]
  },
  {
   "cell_type": "code",
   "execution_count": 15,
   "metadata": {},
   "outputs": [],
   "source": [
    "import string\n",
    "f = open(\"all_data.txt\", \"r\", encoding=\"utf-8\")\n",
    "veri=f.readlines()\n",
    "\n",
    "with open(\"islenmis.txt\", \"w\", encoding=\"utf-8\") as yeni:\n",
    "    for satir in veri: #verileri küçük harfe çevirme ve türkçe karakterleri değiştirme\n",
    "        satir=satir.lower().replace(\"ş\", \"s\").replace(\"ı\", \"i\").replace(\"ö\", \"o\").replace(\"ğ\", \"g\").replace(\"ç\", \"c\").replace(\"ü\", \"u\") \n",
    "        satir=satir.translate(str.maketrans('', '',string.punctuation)) #noktalama işaretleri kaldırıldı.\n",
    "        yeni.write(satir)\n",
    "        \n",
    "\n",
    "f.close()\n",
    "\n"
   ]
  }
 ],
 "metadata": {
  "kernelspec": {
   "display_name": "Python 3.10.7 64-bit",
   "language": "python",
   "name": "python3"
  },
  "language_info": {
   "codemirror_mode": {
    "name": "ipython",
    "version": 3
   },
   "file_extension": ".py",
   "mimetype": "text/x-python",
   "name": "python",
   "nbconvert_exporter": "python",
   "pygments_lexer": "ipython3",
   "version": "3.10.7"
  },
  "orig_nbformat": 4,
  "vscode": {
   "interpreter": {
    "hash": "1d8047cf9a3fb5d39b90451c85057b3ab99e4664a0128e29f03111a30f920c3d"
   }
  }
 },
 "nbformat": 4,
 "nbformat_minor": 2
}
