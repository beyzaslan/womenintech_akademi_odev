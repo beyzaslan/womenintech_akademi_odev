{
 "cells": [
  {
   "cell_type": "code",
   "execution_count": null,
   "metadata": {},
   "outputs": [],
   "source": [
    "## Sayı tahmin oyunu (Bilgisayarın sayısını tahmin etme)\n",
    "from random import randint\n",
    "\n",
    "def guess(number):\n",
    "    user_number = int(input(\"Sayı tahmin oyunu için 1-100 arasında bir tahminde bulun\"))\n",
    "    while number != user_number:\n",
    "        if number < user_number:\n",
    "            print(\"üzgünüm, daha küçük bir tahminde bulunmalısın.\")\n",
    "        else:\n",
    "            print(\"Üzgünüm, daha büyük bir tahminde bulunmalısın\")\n",
    "        user_number = int(input(\"Lütfen, yeniden bir tahminde bulunun!\"))\n",
    "    else:\n",
    "        print(\"Tebrikler, doğru tahmin!\")\n",
    "\n",
    "guess(randint(1, 100))"
   ]
  },
  {
   "cell_type": "code",
   "execution_count": null,
   "metadata": {},
   "outputs": [],
   "source": [
    "## Sayı tahmin oyunu (Kullanıcının sayısını tahmin etme)\n",
    "import random\n",
    "\n",
    "def computer_guess(x):\n",
    "    start = 1\n",
    "    end = 100\n",
    "    result = \"\"\n",
    "    while result != \"d\":\n",
    "        guess = random.randint(start, end)\n",
    "\n",
    "        result = input(f\"{guess} değeri aklından tuttuğun değerden büyükse(b) küçükse (k), doğruysa (d) giriniz.\").lower()\n",
    "        if result == \"b\":\n",
    "            end = guess - 1\n",
    "        elif result == \"k\":\n",
    "            start = guess + 1\n",
    "    print(\"Tebrikler, doğru tahmin\")\n",
    "    \n",
    "computer_guess(19)"
   ]
  }
 ],
 "metadata": {
  "kernelspec": {
   "display_name": "Python 3.10.7 64-bit",
   "language": "python",
   "name": "python3"
  },
  "language_info": {
   "name": "python",
   "version": "3.10.7"
  },
  "orig_nbformat": 4,
  "vscode": {
   "interpreter": {
    "hash": "1d8047cf9a3fb5d39b90451c85057b3ab99e4664a0128e29f03111a30f920c3d"
   }
  }
 },
 "nbformat": 4,
 "nbformat_minor": 2
}
