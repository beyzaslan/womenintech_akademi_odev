{
 "cells": [
  {
   "cell_type": "code",
   "execution_count": null,
   "metadata": {},
   "outputs": [],
   "source": [
    "*           *****           *       *****           **         **********        *        *\n",
    "**          ****           **        ****          ****         ********         **      **\n",
    "***         ***           ***         ***         ******         ******          ***    ***\n",
    "****        **           ****          **        ********         ****           ****  ****\n",
    "*****       *           *****           *       **********         **            **********"
   ]
  },
  {
   "cell_type": "code",
   "execution_count": 2,
   "metadata": {},
   "outputs": [
    {
     "name": "stdout",
     "output_type": "stream",
     "text": [
      "\n",
      "* \n",
      "* * \n",
      "* * * \n",
      "* * * * \n",
      "* * * * * \n",
      "\n"
     ]
    }
   ],
   "source": [
    "\n",
    "x = int(input(\"Bir sayı giriniz\"))\n",
    "\n",
    "for i in range(x+1):\n",
    "    print(\"* \" * i)\n",
    "print()"
   ]
  },
  {
   "cell_type": "code",
   "execution_count": 17,
   "metadata": {},
   "outputs": [
    {
     "name": "stdout",
     "output_type": "stream",
     "text": [
      "* * * * * \n",
      "* * * * \n",
      "* * * \n",
      "* * \n",
      "* \n",
      "\n"
     ]
    }
   ],
   "source": [
    "x = 5\n",
    "for i in range(x, 0, -1):\n",
    "    print(\"* \" * i)\n",
    "print()"
   ]
  },
  {
   "cell_type": "code",
   "execution_count": 44,
   "metadata": {},
   "outputs": [
    {
     "name": "stdout",
     "output_type": "stream",
     "text": [
      "    *\n",
      "   **\n",
      "  ***\n",
      " ****\n",
      "*****\n",
      "\n"
     ]
    }
   ],
   "source": [
    "kacsatir=int(input(\"Kaç satırdan oluşan bir üçgen olsun?\"))\n",
    "\n",
    "for i in range (1, kacsatir+1):\n",
    "    print(\" \" * (kacsatir-i) + \"*\" * i)\n",
    "print()"
   ]
  },
  {
   "cell_type": "code",
   "execution_count": 47,
   "metadata": {},
   "outputs": [
    {
     "name": "stdout",
     "output_type": "stream",
     "text": [
      "*****\n",
      " ****\n",
      "  ***\n",
      "   **\n",
      "    *\n",
      "     \n",
      "\n"
     ]
    }
   ],
   "source": [
    "kacsatir=int(input(\"Kaç satırdan oluşan bir üçgen olsun?\"))\n",
    "for i in range(kacsatir+1):\n",
    "    print(\" \" * i + \"*\" *  (kacsatir-i))\n",
    "print()"
   ]
  },
  {
   "cell_type": "code",
   "execution_count": 54,
   "metadata": {},
   "outputs": [
    {
     "name": "stdout",
     "output_type": "stream",
     "text": [
      "    **    \n",
      "   ****   \n",
      "  ******  \n",
      " ******** \n",
      "**********\n"
     ]
    }
   ],
   "source": [
    "kacsatir=int(input(\"Kaç satırdan oluşan bir üçgen olsun?\"))\n",
    "for i in range(1, kacsatir+1):\n",
    "    print(\" \" * (kacsatir-i) + \"*\" * (i*2) +\" \" * (kacsatir-i)) \n"
   ]
  },
  {
   "cell_type": "code",
   "execution_count": 59,
   "metadata": {},
   "outputs": [
    {
     "name": "stdout",
     "output_type": "stream",
     "text": [
      "**********\n",
      " ******** \n",
      "  ******  \n",
      "   ****   \n",
      "    **    \n",
      "\n"
     ]
    }
   ],
   "source": [
    "kacsatir=int(input(\"Kaç satırdan oluşan bir üçgen olsun?\"))\n",
    "for i in range(kacsatir):\n",
    "    print(\" \" * i + \"*\" * ((kacsatir-i)*2) + \" \"* i)\n",
    "print()"
   ]
  },
  {
   "cell_type": "code",
   "execution_count": 50,
   "metadata": {},
   "outputs": [
    {
     "name": "stdout",
     "output_type": "stream",
     "text": [
      "    * \n",
      "   * * \n",
      "  * * * \n",
      " * * * * \n",
      "* * * * * \n",
      "\n"
     ]
    }
   ],
   "source": [
    "kacsatir=int(input(\"Kaç satırdan oluşan bir üçgen olsun?\"))\n",
    "\n",
    "for i in range (1, kacsatir+1):\n",
    "    print(\" \" * (kacsatir-i) + \"* \" * i)\n",
    "print()"
   ]
  },
  {
   "cell_type": "code",
   "execution_count": 48,
   "metadata": {},
   "outputs": [
    {
     "name": "stdout",
     "output_type": "stream",
     "text": [
      "* * * * * \n",
      " * * * * \n",
      "  * * * \n",
      "   * * \n",
      "    * \n",
      "     \n",
      "\n"
     ]
    }
   ],
   "source": [
    "kacsatir=int(input(\"Kaç satırdan  bir üçgen olsun?\"))\n",
    "for i in range(kacsatir+1):\n",
    "    print(\" \" * i + \"* \" *  (kacsatir-i))\n",
    "print()"
   ]
  },
  {
   "cell_type": "code",
   "execution_count": 66,
   "metadata": {},
   "outputs": [
    {
     "name": "stdout",
     "output_type": "stream",
     "text": [
      "*          *\n",
      "**        **\n",
      "***      ***\n",
      "****    ****\n",
      "*****  *****\n",
      "************\n"
     ]
    }
   ],
   "source": [
    "x=6\n",
    "for i in range(1, x+1):\n",
    "    print(\"*\" * i + \" \" * ((x-i)*2)+ \"*\" * i ) "
   ]
  },
  {
   "cell_type": "code",
   "execution_count": 64,
   "metadata": {},
   "outputs": [
    {
     "name": "stdout",
     "output_type": "stream",
     "text": [
      "************\n",
      "*****  *****\n",
      "****    ****\n",
      "***      ***\n",
      "**        **\n",
      "*          *\n",
      "            \n"
     ]
    }
   ],
   "source": [
    "x=6\n",
    "for i in range(x+1):\n",
    "    print(\"*\" * (x-i) + 2 * \" \" * i +\"*\" * (x-i))"
   ]
  }
 ],
 "metadata": {
  "kernelspec": {
   "display_name": "Python 3.10.7 64-bit",
   "language": "python",
   "name": "python3"
  },
  "language_info": {
   "codemirror_mode": {
    "name": "ipython",
    "version": 3
   },
   "file_extension": ".py",
   "mimetype": "text/x-python",
   "name": "python",
   "nbconvert_exporter": "python",
   "pygments_lexer": "ipython3",
   "version": "3.10.7"
  },
  "orig_nbformat": 4,
  "vscode": {
   "interpreter": {
    "hash": "1d8047cf9a3fb5d39b90451c85057b3ab99e4664a0128e29f03111a30f920c3d"
   }
  }
 },
 "nbformat": 4,
 "nbformat_minor": 2
}
