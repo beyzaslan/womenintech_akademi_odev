{
 "cells": [
  {
   "cell_type": "code",
   "execution_count": null,
   "metadata": {},
   "outputs": [],
   "source": [
    "*           *****           *       *****           **         **********        *        *\n",
    "**          ****           **        ****          ****         ********         **      **\n",
    "***         ***           ***         ***         ******         ******          ***    ***\n",
    "****        **           ****          **        ********         ****           ****  ****\n",
    "*****       *           *****           *       **********         **            **********"
   ]
  },
  {
   "cell_type": "code",
   "execution_count": 2,
   "metadata": {},
   "outputs": [
    {
     "name": "stdout",
     "output_type": "stream",
     "text": [
      "\n",
      "* \n",
      "* * \n",
      "* * * \n",
      "* * * * \n",
      "* * * * * \n",
      "\n"
     ]
    }
   ],
   "source": [
    "\n",
    "x = int(input(\"Bir sayı giriniz\"))\n",
    "\n",
    "for i in range(x+1):\n",
    "    print(\"* \" * i)\n",
    "print()"
   ]
  },
  {
   "cell_type": "code",
   "execution_count": 17,
   "metadata": {},
   "outputs": [
    {
     "name": "stdout",
     "output_type": "stream",
     "text": [
      "* * * * * \n",
      "* * * * \n",
      "* * * \n",
      "* * \n",
      "* \n",
      "\n"
     ]
    }
   ],
   "source": [
    "x = 5\n",
    "for i in range(x, 0, -1):\n",
    "    print(\"* \" * i)\n",
    "print()"
   ]
  },
  {
   "cell_type": "code",
   "execution_count": 24,
   "metadata": {},
   "outputs": [
    {
     "name": "stdout",
     "output_type": "stream",
     "text": [
      "     \n",
      "\n",
      "     *\n",
      "\n",
      "     **\n",
      "\n",
      "     ***\n",
      "\n",
      "     ****\n",
      "\n",
      "     \n",
      "\n",
      "     *\n",
      "\n",
      "     **\n",
      "\n",
      "     ***\n",
      "\n",
      "     ****\n",
      "\n",
      "     \n",
      "\n",
      "     *\n",
      "\n",
      "     **\n",
      "\n",
      "     ***\n",
      "\n",
      "     ****\n",
      "\n",
      "     \n",
      "\n",
      "     *\n",
      "\n",
      "     **\n",
      "\n",
      "     ***\n",
      "\n",
      "     ****\n",
      "\n"
     ]
    }
   ],
   "source": [
    "\n",
    "    "
   ]
  }
 ],
 "metadata": {
  "kernelspec": {
   "display_name": "Python 3.10.7 64-bit",
   "language": "python",
   "name": "python3"
  },
  "language_info": {
   "codemirror_mode": {
    "name": "ipython",
    "version": 3
   },
   "file_extension": ".py",
   "mimetype": "text/x-python",
   "name": "python",
   "nbconvert_exporter": "python",
   "pygments_lexer": "ipython3",
   "version": "3.10.7"
  },
  "orig_nbformat": 4,
  "vscode": {
   "interpreter": {
    "hash": "1d8047cf9a3fb5d39b90451c85057b3ab99e4664a0128e29f03111a30f920c3d"
   }
  }
 },
 "nbformat": 4,
 "nbformat_minor": 2
}
